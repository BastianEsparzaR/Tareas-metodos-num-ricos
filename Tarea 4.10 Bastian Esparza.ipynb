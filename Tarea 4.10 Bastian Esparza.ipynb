{
 "cells": [
  {
   "cell_type": "markdown",
   "metadata": {},
   "source": [
    "Un colega le pasa a usted un archivo .hd5 que contiene tres \"datasets\" 'x', 'y', 'e'. Todos los datasets tienen la misma longitud y el i-ésimo elemento de cada dataset corresponde a una propiedad diferente del i-ésimo dato.\n",
    "\n",
    "Escriba una función que grafique esos resultados donde 'x' es el eje horizontal, 'y' el eje vertical y 'e' son las barras de error de 'y'.\n",
    "\n",
    "CUIDADO: Recuerde que el dataset es un puntero y deja de existir cuando se cierra el archivo."
   ]
  },
  {
   "cell_type": "code",
   "execution_count": 92,
   "metadata": {},
   "outputs": [],
   "source": [
    "import numpy as np\n",
    "import matplotlib.pyplot as plt\n",
    "import h5py"
   ]
  },
  {
   "cell_type": "code",
   "execution_count": 93,
   "metadata": {},
   "outputs": [],
   "source": [
    "#generamos un conjunto de datos arbitrarios para poder trabajar\n",
    "\n",
    "x = np.linspace(0,10,30)\n",
    "y = (x**2)\n",
    "e = (np.sin(x) + np.cos(y))**3\n",
    "\n",
    "#grabamos los datos en un archivo .hd5\n",
    "with h5py.File('dataset.hd5', 'w') as file:\n",
    "    dat_x = file.create_dataset('x', data=x) \n",
    "    dat_y = file.create_dataset('y', data=y) \n",
    "    dat_e = file.create_dataset('e', data=e) "
   ]
  },
  {
   "cell_type": "code",
   "execution_count": 100,
   "metadata": {},
   "outputs": [],
   "source": [
    "with h5py.File('dataset.hd5', 'r+') as file: \n",
    "    x = file['x'] \n",
    "    y = file['y']\n",
    "    e = file ['e']\n",
    "    datax = (x[:20]) #con [:] hacemos listas de datos para poder graficar\n",
    "    datay = (y[:20])\n",
    "    datae = (e[:20])"
   ]
  },
  {
   "cell_type": "code",
   "execution_count": 101,
   "metadata": {},
   "outputs": [
    {
     "data": {
      "image/png": "[encoded data removed]",
      "text/plain": [
       "<Figure size 432x288 with 1 Axes>"
      ]
     },
     "metadata": {
      "needs_background": "light"
     },
     "output_type": "display_data"
    }
   ],
   "source": [
    "#graficamos los datos\n",
    "\n",
    "plt.errorbar(datax,datay,datae,ecolor='violet')\n",
    "plt.xlabel('Eje x') \n",
    "plt.ylabel('Eje y')\n",
    "\n",
    "plt.show()"
   ]
  },
  {
   "cell_type": "markdown",
   "metadata": {},
   "source": [
    "# Calificacion: 7.0\n",
    "\n",
    "El error tipicamente sigue una distribucion aleatoria, no se si el profesor les ha pasado generacion de numeros aleatorios asi que te lo perdono uwu."
   ]
  }
 ],
 "metadata": {
  "kernelspec": {
   "display_name": "Python 3",
   "language": "python",
   "name": "python3"
  },
  "language_info": {
   "codemirror_mode": {
    "name": "ipython",
    "version": 3
   },
   "file_extension": ".py",
   "mimetype": "text/x-python",
   "name": "python",
   "nbconvert_exporter": "python",
   "pygments_lexer": "ipython3",
   "version": "3.8.3"
  },
  "toc": {
   "base_numbering": 1,
   "nav_menu": {},
   "number_sections": true,
   "sideBar": true,
   "skip_h1_title": false,
   "title_cell": "Table of Contents",
   "title_sidebar": "Contents",
   "toc_cell": false,
   "toc_position": {},
   "toc_section_display": true,
   "toc_window_display": false
  }
 },
 "nbformat": 4,
 "nbformat_minor": 5
}
