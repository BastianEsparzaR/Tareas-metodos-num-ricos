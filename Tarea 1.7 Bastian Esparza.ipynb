{
 "cells": [
  {
   "cell_type": "code",
   "execution_count": 3,
   "id": "7a88e88a",
   "metadata": {},
   "outputs": [
    {
     "name": "stdout",
     "output_type": "stream",
     "text": [
      "Tarea: 7\n"
     ]
    }
   ],
   "source": [
    "import random  #estoy escogiendo una tarea aleatoria de la 1.1 a la 1.10 ya que no tenía una asignada\n",
    "\n",
    "tareas = [1,2,3,4,5,6,7,8,9,10]\n",
    "def selectRandom(tareas):\n",
    "    return random.choice(tareas)\n",
    "print(\"Tarea:\", selectRandom(tareas) )"
   ]
  },
  {
   "cell_type": "code",
   "execution_count": 14,
   "id": "18e72dd6",
   "metadata": {},
   "outputs": [
    {
     "name": "stdout",
     "output_type": "stream",
     "text": [
      "1\n",
      "11\n",
      "111\n",
      "1111\n",
      "11111\n",
      "111111\n",
      "1111111\n",
      "11111111\n",
      "111111111\n"
     ]
    }
   ],
   "source": [
    "for i in range (1,10):      #Defino un rango de 1 al 10 para i (ya que son 10 lineas) y luego uso print(i*\"1\") que imprime el numero 1 i veces por linea\n",
    "    print(i*\"1\")"
   ]
  },
  {
   "cell_type": "code",
   "execution_count": null,
   "id": "467ffb84",
   "metadata": {},
   "outputs": [],
   "source": []
  },
  {
   "cell_type": "markdown",
   "id": "d2005695",
   "metadata": {},
   "source": [
    "# Calificación: 7.0"
   ]
  },
  {
   "cell_type": "code",
   "execution_count": null,
   "id": "d9321b28",
   "metadata": {},
   "outputs": [],
   "source": []
  }
 ],
 "metadata": {
  "kernelspec": {
   "display_name": "Python 3 (ipykernel)",
   "language": "python",
   "name": "python3"
  },
  "language_info": {
   "codemirror_mode": {
    "name": "ipython",
    "version": 3
   },
   "file_extension": ".py",
   "mimetype": "text/x-python",
   "name": "python",
   "nbconvert_exporter": "python",
   "pygments_lexer": "ipython3",
   "version": "3.9.12"
  }
 },
 "nbformat": 4,
 "nbformat_minor": 5
}
