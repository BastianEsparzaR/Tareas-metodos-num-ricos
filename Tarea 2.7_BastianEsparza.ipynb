{
 "cells": [
  {
   "cell_type": "markdown",
   "id": "bcded790-a4df-489d-86b5-26714481fb13",
   "metadata": {
    "tags": []
   },
   "source": [
    "## Escriba el siguiente número en su representación de 16 bits: 9.75\n",
    "\n"
   ]
  },
  {
   "cell_type": "markdown",
   "id": "1749addd-2446-40dc-8d06-080014d686c8",
   "metadata": {},
   "source": [
    "$0010010011100000$ calculado a mano\n"
   ]
  },
  {
   "cell_type": "markdown",
   "id": "79d47fc0-277e-4ded-98fc-e10c0be8a490",
   "metadata": {},
   "source": [
    "Un numero en 16 bits se determina por la formula:\n",
    "\n",
    "$ (-1)^s2^{c-15}(1+f) $ \n",
    "\n",
    "Donde $s$ representa el signo del numero, en este caso positivo, $c$ representa los siguientes 5 bits, y $f$ representa los últimos 10. En este caso los valores son 0, 18 y 0.21875 respectivamente.\n",
    "\n",
    "Asi, si reemplazamos los valores de $s$, $c$ y $f$ en la formula podemos comprobar."
   ]
  },
  {
   "cell_type": "code",
   "execution_count": 4,
   "id": "32e602cf-44e3-4061-a5ce-e62cf7334f49",
   "metadata": {},
   "outputs": [
    {
     "data": {
      "text/plain": [
       "9.75"
      ]
     },
     "execution_count": 4,
     "metadata": {},
     "output_type": "execute_result"
    }
   ],
   "source": [
    "(-1)**0*2**(18-15)*(1+0.21875)"
   ]
  }
 ],
 "metadata": {
  "kernelspec": {
   "display_name": "Python 3 (ipykernel)",
   "language": "python",
   "name": "python3"
  },
  "language_info": {
   "codemirror_mode": {
    "name": "ipython",
    "version": 3
   },
   "file_extension": ".py",
   "mimetype": "text/x-python",
   "name": "python",
   "nbconvert_exporter": "python",
   "pygments_lexer": "ipython3",
   "version": "3.9.12"
  }
 },
 "nbformat": 4,
 "nbformat_minor": 5
}
