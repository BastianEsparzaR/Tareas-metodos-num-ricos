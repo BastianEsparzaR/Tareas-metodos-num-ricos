{
 "cells": [
  {
   "cell_type": "markdown",
   "id": "62bb0b43-3671-4f52-8031-1325115f62cf",
   "metadata": {},
   "source": [
    "## Escriba su propio código que calcule la desviación estándar de las notas del curso experimental usado en el ejemplo anterior, sin usar ninguna librería (no puede usar numpy.std, numpy.mean, ni otras funciones equivalentes de otra librería numérica).]"
   ]
  },
  {
   "cell_type": "code",
   "execution_count": 76,
   "id": "4d298028-7267-43d2-a407-cd6fb4a6a51e",
   "metadata": {},
   "outputs": [],
   "source": [
    "import numpy as np\n",
    "\n",
    "notas = np.array(\n",
    "[[100, 100, 93.0],\n",
    " [53.0, 60.0, 37.0],\n",
    " [42.0, 35.0, 89.0],\n",
    " [57.0, 54.0, 37.0],\n",
    " [77.0, 66.0, 53.0],\n",
    " [23.0, 26.0, 55.0],\n",
    " [97.0, 78.0, 68.0],\n",
    " [65.0, 45.0, 69.0],\n",
    " [74.0, 74.0, 84.0],\n",
    " [39.0, 44.0, 78.0],\n",
    " [95.0, 94.0, 25.0],\n",
    " [95.0, 74.0, 60.0],\n",
    " [77.0, 67.0, 17.0],\n",
    " [52.0, 47.0, 49.0],\n",
    " [66.0, 52.0, 27.0],\n",
    " [74.0, 63.0, 47.0],\n",
    " [79.0, 59.0, 13.0],\n",
    " [60.0, 40.0, 92.0],\n",
    " [80.0, 69.0, 36.0],\n",
    " [74.0, 44.0, 82.0],\n",
    " [100, 77.0, 7.0],\n",
    " [30.0, 23.0, 14.0],\n",
    " [96.0, 78.0, 57.0],\n",
    " [60.0, 81.0, 2.0],\n",
    " [57.0, 60.0, 29.0],\n",
    " [72.0, 88.0, 25.0],\n",
    " [44.0, 48.0, 58.0],\n",
    " [57.0, 53.0, 89.0],\n",
    " [58.0, 66.0, 31.0],\n",
    " [54.0, 48.0, 27.0],\n",
    " [58.0, 39.0, 86.0],\n",
    " [62.0, 55.0, 67.0],\n",
    " [54.0, 54.0, 66.0],\n",
    " [74.0, 70.0, 89.0],\n",
    " [60.0, 73.0, 39.0],\n",
    " [58.0, 74.0, 81.0],\n",
    " [50.0, 67.0, 52.0],\n",
    " [55.0, 50.0, 60.0],\n",
    " [91.0, 89.0, 70.0],\n",
    " [50.0, 55.0, 100],\n",
    " [47.0, 83.0, 51.0],\n",
    " [100, 100, 32.0],\n",
    " [53.0, 59.0, 72.0],\n",
    " [7.0, 39.0, 95.0],\n",
    " [73.0, 68.0, 76.0],\n",
    " [92.0, 100.0, 83.0],\n",
    " [81.0, 82.0, 66.0],\n",
    " [99.0, 88.0, 80.0],\n",
    " [79.0, 98.0, 48.0],\n",
    " [71.0, 45.0, 53.0]])\n",
    "    \n"
   ]
  },
  {
   "cell_type": "code",
   "execution_count": 78,
   "id": "9079e5de-9671-4b00-b41b-9d10bf6d0bed",
   "metadata": {},
   "outputs": [
    {
     "name": "stdout",
     "output_type": "stream",
     "text": [
      "la desviación estandar es: 25.818938785318036\n"
     ]
    }
   ],
   "source": [
    "\n",
    "a = (sum((notas[:,2])))  #sumatoria de las notas\n",
    "b = a/len(notas)        #promedio\n",
    "o = []                   #se crea una lista vacia para luego asignarle los valores\n",
    "for x in (notas[:,2]):\n",
    "    o.append(x)         \n",
    "s = sum((o - b)**2) #se define la sumatoria de los elementos del conjunto menos el promedio\n",
    "d_estandar = (s/len(notas))**(1/2)\n",
    "\n",
    "print('la desviación estandar es:', d_estandar)"
   ]
  },
  {
   "cell_type": "code",
   "execution_count": 77,
   "id": "e16b6a08-34a4-4299-828f-4d2e99380032",
   "metadata": {},
   "outputs": [
    {
     "data": {
      "text/plain": [
       "25.818938785318036"
      ]
     },
     "execution_count": 77,
     "metadata": {},
     "output_type": "execute_result"
    }
   ],
   "source": [
    "np.std(notas[:,2]) #comprobación del resultado con una libreria"
   ]
  },
  {
   "cell_type": "markdown",
   "id": "ff61fb22",
   "metadata": {},
   "source": [
    "# Calificación: 6.0\n",
    "\n",
    "Deberías usar mejores nombres para las variables. Estos nombres son demasiado escuetos."
   ]
  },
  {
   "cell_type": "code",
   "execution_count": null,
   "id": "475302c7-7391-4436-a586-c606b3bd8715",
   "metadata": {},
   "outputs": [],
   "source": []
  }
 ],
 "metadata": {
  "kernelspec": {
   "display_name": "Python 3 (ipykernel)",
   "language": "python",
   "name": "python3"
  },
  "language_info": {
   "codemirror_mode": {
    "name": "ipython",
    "version": 3
   },
   "file_extension": ".py",
   "mimetype": "text/x-python",
   "name": "python",
   "nbconvert_exporter": "python",
   "pygments_lexer": "ipython3",
   "version": "3.9.12"
  }
 },
 "nbformat": 4,
 "nbformat_minor": 5
}
