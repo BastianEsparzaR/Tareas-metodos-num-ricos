{
 "cells": [
  {
   "cell_type": "markdown",
   "metadata": {},
   "source": [
    "Tarea 9.6\n",
    "Escriba un código que implemente una cuadratura gaussiana compuesta. Es decir, divide el rango de integración en $n$ subintervalos y aplica una cuadratura gaussiana en cada uno."
   ]
  },
  {
   "cell_type": "code",
   "execution_count": 1,
   "metadata": {},
   "outputs": [],
   "source": [
    "import numpy as np"
   ]
  },
  {
   "cell_type": "code",
   "execution_count": 2,
   "metadata": {},
   "outputs": [],
   "source": [
    "def gauss_compuesta(f, maxi, mini, n):\n",
    "    \n",
    "    '''implememta una cuadratura gausiana compuesta de orden 5 para un intervalo [mini,maxi] subdividido en n intervalos'''\n",
    "    \n",
    "    h = (maxi - mini)/n                  #Distancia entre cada intervalo.\n",
    "    x = np.arange((maxi - mini)/h+1)*h   #Arreglo del intervalo subdividido.\n",
    "    cuadratura = 0                       #Variable acumulativa.\n",
    "  \n",
    "\n",
    "    def gauss_quad_5(f, a, b): #cuadratura gaussiana de orden 5 para cada intervalo\n",
    "    \n",
    "        def x(t):\n",
    "            return ((b - a)*t + a + b)/2\n",
    "    \n",
    "        c = [0.2369268850, 0.4786286705, 0.5688888889, 0.4786286705, 0.2369268850]\n",
    "        r = [0.9061798459, 0.5384693101, 0.0000000000, -0.5384693101, -0.9061798459]\n",
    "    \n",
    "        return ((b - a)/2)*sum(c[i]*f(x(r[i])) for i in range(5))\n",
    "    \n",
    "    for i in range(1, n+1):           #actualiza el valor de la cuadratura como la suma de los intervalos.\n",
    "        cuadratura = cuadratura + gauss_quad_5(f, x[i-1], x[i])\n",
    "    return cuadratura    #devuelve el valor actualizado"
   ]
  },
  {
   "cell_type": "code",
   "execution_count": 3,
   "metadata": {},
   "outputs": [
    {
     "data": {
      "text/plain": [
       "1.4161468364777219"
      ]
     },
     "execution_count": 3,
     "metadata": {},
     "output_type": "execute_result"
    }
   ],
   "source": [
    "gauss_compuesta(np.sin, 0, 2, 5)    #en este caso se hace con la función seno, en un rango de 0 a 2 y con 5 intervalos"
   ]
  },
  {
   "cell_type": "markdown",
   "metadata": {},
   "source": [
    "# Calificacion: 7.0"
   ]
  }
 ],
 "metadata": {
  "kernelspec": {
   "display_name": "Python 3",
   "language": "python",
   "name": "python3"
  },
  "language_info": {
   "codemirror_mode": {
    "name": "ipython",
    "version": 3
   },
   "file_extension": ".py",
   "mimetype": "text/x-python",
   "name": "python",
   "nbconvert_exporter": "python",
   "pygments_lexer": "ipython3",
   "version": "3.8.3"
  },
  "toc": {
   "base_numbering": 1,
   "nav_menu": {},
   "number_sections": true,
   "sideBar": true,
   "skip_h1_title": false,
   "title_cell": "Table of Contents",
   "title_sidebar": "Contents",
   "toc_cell": false,
   "toc_position": {},
   "toc_section_display": true,
   "toc_window_display": false
  }
 },
 "nbformat": 4,
 "nbformat_minor": 5
}
