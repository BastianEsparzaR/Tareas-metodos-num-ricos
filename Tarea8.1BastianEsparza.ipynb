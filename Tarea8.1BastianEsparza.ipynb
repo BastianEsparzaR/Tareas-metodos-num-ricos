{
 "cells": [
  {
   "cell_type": "markdown",
   "id": "998cf354-4c2a-4566-91b7-db7957465b97",
   "metadata": {},
   "source": [
    "Tarea 8.1\n",
    "\n",
    "Tome 20 puntos entre $x = -2$ y $x = 2$ para interpolar la función $\\tanh(x)$. Hágalo usando la spline cúbica introducida en clase y la función de scipy. ¿Cuál tiene un error mayor?"
   ]
  },
  {
   "cell_type": "code",
   "execution_count": 1,
   "id": "bc6665d3-4a1f-49e0-8d31-6c3f36315bb0",
   "metadata": {},
   "outputs": [],
   "source": [
    "import numpy as np\n",
    "import matplotlib.pyplot as plt"
   ]
  },
  {
   "cell_type": "markdown",
   "id": "3fc9fc15-98b8-4fd9-b260-1318cb8d53ff",
   "metadata": {},
   "source": [
    "1) Spline cúbica"
   ]
  },
  {
   "cell_type": "code",
   "execution_count": 2,
   "id": "a9008965-de68-4a90-92fd-db653c64d4f2",
   "metadata": {},
   "outputs": [],
   "source": [
    "def spline_coefs(puntos):\n",
    "    \n",
    "    n = len(puntos) - 1\n",
    "    \n",
    "    h = np.zeros(n)\n",
    "    for i in range(n):\n",
    "        h[i] = puntos[i + 1][0] - puntos[i][0]\n",
    "    \n",
    "    a = puntos[:,1]\n",
    "    alpha = np.zeros(n - 1)\n",
    "    for i in range(1, n):\n",
    "        alpha[i-1] = (3/h[i])*(a[i+1] - a[i]) - (3/h[i-1])*(a[i] - a[i-1])\n",
    "        \n",
    "        \n",
    "    # Se resuelve un sistema de ecuaciones:\n",
    "    l = np.ones(n + 1)\n",
    "    mu = np.zeros(n)\n",
    "    z = np.zeros(n + 1)\n",
    "    for i in range(1, n):\n",
    "        l[i] = 2*(puntos[i+1][0] - puntos[i-1][0]) - h[i-1]*mu[i-1]\n",
    "        mu[i] = h[i]/l[i]\n",
    "        z[i] = (alpha[i-1] - h[i-1]*z[i-1])/l[i]\n",
    "    b = np.zeros(n)\n",
    "    c = np.zeros(n+1)\n",
    "    d = np.zeros(n)\n",
    "    for j in range(n-1,-1,-1):\n",
    "        c[j] = z[j] - mu[j]*c[j+1]\n",
    "        b[j] = (a[j+1] - a[j])/h[j] - h[j]*(c[j+1] + 2*c[j])/3\n",
    "        d[j] = (c[j+1] - c[j])/(3*h[j])\n",
    "        \n",
    "    return a, b, c, d\n"
   ]
  },
  {
   "cell_type": "code",
   "execution_count": 3,
   "id": "f41a06c3-80e5-4df5-ba6e-c406352e9c5f",
   "metadata": {},
   "outputs": [],
   "source": [
    "#definimos la interpolación\n",
    "def spline_eval(x, coefs, puntos):\n",
    "\n",
    "    if x >= puntos[-1,0]:\n",
    "        return puntos[-1,1]\n",
    "    elif x <= puntos[0,0]:\n",
    "        return puntos[0,1]\n",
    "    \n",
    "    i = find_ind(x, puntos)\n",
    "    a, b, c, d = coefs\n",
    "    return (a[i] + b[i]*(x - puntos[i][0]) + \\\n",
    "            c[i]*(x - puntos[i][0])**2 + d[i]*(x - puntos[i][0])**3)"
   ]
  },
  {
   "cell_type": "code",
   "execution_count": 4,
   "id": "7fffe0d3-75da-472d-a0d8-af6d30ce54e1",
   "metadata": {},
   "outputs": [],
   "source": [
    "def find_ind(x, puntos):   #localiza puntos en sus polinomios\n",
    "    for i in range(len(puntos)):\n",
    "        if x < puntos[i,0] and i != 0:\n",
    "            return i-1"
   ]
  },
  {
   "cell_type": "code",
   "execution_count": 29,
   "id": "0e89ab68-bece-4a8d-8107-e2124020c45e",
   "metadata": {},
   "outputs": [
    {
     "data": {
      "text/plain": [
       "[<matplotlib.lines.Line2D at 0x293bea0c880>]"
      ]
     },
     "execution_count": 29,
     "metadata": {},
     "output_type": "execute_result"
    },
    {
     "data": {
      "image/png": "[encoded data removed]",
      "text/plain": [
       "<Figure size 432x288 with 1 Axes>"
      ]
     },
     "metadata": {
      "needs_background": "light"
     },
     "output_type": "display_data"
    }
   ],
   "source": [
    "mini = -2   #valor mínimo\n",
    "maxi = 2    #valor máximo\n",
    "order = 20  #cantidad de puntos usados en las interpolación\n",
    "\n",
    "xp = np.linspace(mini, maxi, order)\n",
    "puntos = np.array([[xi, np.tanh(xi)] for xi in xp])\n",
    "coefs= spline_coefs(puntos)\n",
    "\n",
    "\n",
    "x = np.linspace(mini, maxi, 100)\n",
    "exact = np.tanh(x)\n",
    "spline = [spline_eval(xi, coefs, puntos) for xi in x]\n",
    "\n",
    "plt.title('Spline cúbica')\n",
    "plt.ylabel('Spline')\n",
    "plt.xlabel('$x$')\n",
    "plt.scatter(puntos[:,0], puntos[:,1], color='black')\n",
    "plt.plot(x, exact)\n",
    "plt.plot(x, spline)"
   ]
  },
  {
   "cell_type": "markdown",
   "id": "30e35bfb-6f35-419f-932c-b353e3347000",
   "metadata": {},
   "source": [
    "2) Scipy"
   ]
  },
  {
   "cell_type": "code",
   "execution_count": 23,
   "id": "215c8d77-ece1-4079-8519-feff86befd3e",
   "metadata": {},
   "outputs": [
    {
     "data": {
      "image/png": "[encoded data removed]",
      "text/plain": [
       "<Figure size 432x288 with 1 Axes>"
      ]
     },
     "metadata": {
      "needs_background": "light"
     },
     "output_type": "display_data"
    }
   ],
   "source": [
    "from scipy.interpolate import interp1d\n",
    "\n",
    "x = np.linspace(-2, 2, num=20)\n",
    "y = np.tanh(x)\n",
    "f = interp1d(x, y, kind='cubic')\n",
    "xnew = np.linspace(-2, 2, num=100)\n",
    "\n",
    "plt.title('Scipy')\n",
    "plt.ylabel('Scipy spline cúbica')\n",
    "plt.xlabel('$x$')\n",
    "plt.plot(x, y, 'o', xnew, f(xnew))\n",
    "plt.show()"
   ]
  },
  {
   "cell_type": "markdown",
   "id": "e82c50f3-5cb8-4fe3-80a7-ba847a0118c3",
   "metadata": {},
   "source": [
    "#"
   ]
  },
  {
   "cell_type": "code",
   "execution_count": 30,
   "id": "49d73a37-b803-477c-9173-1608cc60bd61",
   "metadata": {},
   "outputs": [
    {
     "name": "stdout",
     "output_type": "stream",
     "text": [
      "el error promedio para la interpolación con spline tomando 20 puntos es 4.061925299382007e-05\n"
     ]
    }
   ],
   "source": [
    "print('el error promedio para la interpolación con spline tomando 20 puntos es', np.mean(abs(np.tanh(x)-spline)/abs(np.tanh(x))))"
   ]
  },
  {
   "cell_type": "code",
   "execution_count": 31,
   "id": "7e3a53ed-bd44-42c2-b260-e5e70f8f1576",
   "metadata": {},
   "outputs": [
    {
     "name": "stdout",
     "output_type": "stream",
     "text": [
      "el error promedio para la interpolación con scipy tomando 20 puntos es 1.699529979834349e-05\n"
     ]
    }
   ],
   "source": [
    "print('el error promedio para la interpolación con scipy tomando 20 puntos es', np.mean(abs(np.tanh(x)-f(xnew))/abs(np.tanh(x))))"
   ]
  },
  {
   "cell_type": "markdown",
   "id": "b8925c9f-c6f1-437e-83c7-4860874446db",
   "metadata": {},
   "source": [
    "Se puede apreciar que el error de Scipy es un poco menor, pero aún asi ambos métodos tienen errores de un orden de 10e-05. "
   ]
  },
  {
   "cell_type": "markdown",
   "id": "f7e94e59",
   "metadata": {},
   "source": [
    "# Calificación: 7.0"
   ]
  }
 ],
 "metadata": {
  "kernelspec": {
   "display_name": "Python 3 (ipykernel)",
   "language": "python",
   "name": "python3"
  },
  "language_info": {
   "codemirror_mode": {
    "name": "ipython",
    "version": 3
   },
   "file_extension": ".py",
   "mimetype": "text/x-python",
   "name": "python",
   "nbconvert_exporter": "python",
   "pygments_lexer": "ipython3",
   "version": "3.9.12"
  }
 },
 "nbformat": 4,
 "nbformat_minor": 5
}
